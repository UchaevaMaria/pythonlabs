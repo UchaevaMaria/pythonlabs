{
  "nbformat": 4,
  "nbformat_minor": 0,
  "metadata": {
    "colab": {
      "provenance": [],
      "authorship_tag": "ABX9TyP9DZFpxuTqGWsO+IuK4Gfv",
      "include_colab_link": true
    },
    "kernelspec": {
      "name": "python3",
      "display_name": "Python 3"
    },
    "language_info": {
      "name": "python"
    }
  },
  "cells": [
    {
      "cell_type": "markdown",
      "metadata": {
        "id": "view-in-github",
        "colab_type": "text"
      },
      "source": [
        "<a href=\"https://colab.research.google.com/github/UchaevaMaria/pythonlabs/blob/main/expython.ipynb\" target=\"_parent\"><img src=\"https://colab.research.google.com/assets/colab-badge.svg\" alt=\"Open In Colab\"/></a>"
      ]
    },
    {
      "cell_type": "code",
      "execution_count": 1,
      "metadata": {
        "colab": {
          "base_uri": "https://localhost:8080/"
        },
        "id": "Sfx1JpTVxbbz",
        "outputId": "85bab037-258d-4b32-8b70-c30ffd35c5e0"
      },
      "outputs": [
        {
          "output_type": "stream",
          "name": "stdout",
          "text": [
            "Как тебя зовут? мария\n",
            "В каком году ты родился? 2006\n",
            "Привет, мария! В этом году тебе будет 19 лет.\n"
          ]
        }
      ],
      "source": [
        "#1\n",
        "name = input('Как тебя зовут? ')\n",
        "birth_year = int(input('В каком году ты родился? '))\n",
        "current_age = 2025 - birth_year\n",
        "print(f\"Привет, {name}! В этом году тебе будет {current_age} лет.\")"
      ]
    },
    {
      "cell_type": "code",
      "source": [
        "#2\n",
        "number = int(input(\"Введите число: \"))\n",
        "\n",
        "if number % 10 == 0:  # Если число делится на 10, оно автоматически делится на 5\n",
        "    print(\"Число кратно 5 и 10\")\n",
        "else:\n",
        "    print(\"Число не кратно одновременно 5 и 10\")\n"
      ],
      "metadata": {
        "colab": {
          "base_uri": "https://localhost:8080/"
        },
        "id": "pljsyalIx-2t",
        "outputId": "5009e5b6-aac8-4e42-f2e3-72403e021467"
      },
      "execution_count": 2,
      "outputs": [
        {
          "output_type": "stream",
          "name": "stdout",
          "text": [
            "Введите число: 22\n",
            "Число не кратно одновременно 5 и 10\n"
          ]
        }
      ]
    },
    {
      "cell_type": "code",
      "source": [
        "#3\n",
        "x = int(input(\"Введите первое число: \"))\n",
        "y = int(input(\"Введите второе число: \"))\n",
        "z = int(input(\"Введите третье число: \"))\n",
        "\n",
        "min_pair = min(x, y)        # выбираем меньшее из первых двух\n",
        "result = min(min_pair, z)   # выбираем меньшее между min_pair и третьим числом\n",
        "\n",
        "print(result)"
      ],
      "metadata": {
        "colab": {
          "base_uri": "https://localhost:8080/"
        },
        "id": "a8ZC54t1yCrH",
        "outputId": "c6bf9891-f4ed-4632-8c81-bde9d80da793"
      },
      "execution_count": 5,
      "outputs": [
        {
          "output_type": "stream",
          "name": "stdout",
          "text": [
            "Введите первое число: 1\n",
            "Введите второе число: 2\n",
            "Введите третье число: 4\n",
            "1\n"
          ]
        }
      ]
    },
    {
      "cell_type": "code",
      "source": [
        "#4\n",
        "start = int(input(\"Введите начало диапазона: \"))\n",
        "end = int(input(\"Введите конец диапазона: \"))\n",
        "\n",
        "evens = []\n",
        "\n",
        "for i in range(start, end + 1):\n",
        "    if i % 2 == 0:\n",
        "        evens.append(i)\n",
        "\n",
        "if evens:\n",
        "    print(\"Чётные числа в диапазоне:\", evens)\n",
        "else:\n",
        "    print(\"В этом диапазоне нет чётных чисел.\")\n"
      ],
      "metadata": {
        "colab": {
          "base_uri": "https://localhost:8080/"
        },
        "id": "KGrME6Ahyg3d",
        "outputId": "63939619-c0f5-49e2-f406-656e66b0d0fd"
      },
      "execution_count": 6,
      "outputs": [
        {
          "output_type": "stream",
          "name": "stdout",
          "text": [
            "Введите начало диапазона: 21\n",
            "Введите конец диапазона: 234\n",
            "Чётные числа в диапазоне: [22, 24, 26, 28, 30, 32, 34, 36, 38, 40, 42, 44, 46, 48, 50, 52, 54, 56, 58, 60, 62, 64, 66, 68, 70, 72, 74, 76, 78, 80, 82, 84, 86, 88, 90, 92, 94, 96, 98, 100, 102, 104, 106, 108, 110, 112, 114, 116, 118, 120, 122, 124, 126, 128, 130, 132, 134, 136, 138, 140, 142, 144, 146, 148, 150, 152, 154, 156, 158, 160, 162, 164, 166, 168, 170, 172, 174, 176, 178, 180, 182, 184, 186, 188, 190, 192, 194, 196, 198, 200, 202, 204, 206, 208, 210, 212, 214, 216, 218, 220, 222, 224, 226, 228, 230, 232, 234]\n"
          ]
        }
      ]
    },
    {
      "cell_type": "code",
      "source": [
        "#5\n",
        "numbers = [12, -5, 23, 0, 4, 17, -8, 0, 11]\n",
        "print(len(numbers))\n",
        "print(numbers[-1])\n",
        "numbers.reverse()\n",
        "print(numbers)\n",
        "if 5 and 17 in numbers:\n",
        "    print('Да')\n",
        "else:\n",
        "    print('Нет')"
      ],
      "metadata": {
        "colab": {
          "base_uri": "https://localhost:8080/"
        },
        "id": "sP3yMd0Ryjcg",
        "outputId": "8abd60ba-32c6-4d1b-9439-1439f9422bc3"
      },
      "execution_count": 7,
      "outputs": [
        {
          "output_type": "stream",
          "name": "stdout",
          "text": [
            "9\n",
            "11\n",
            "[11, 0, -8, 17, 4, 0, 23, -5, 12]\n",
            "Да\n"
          ]
        }
      ]
    },
    {
      "cell_type": "code",
      "source": [
        "#6 Создаём словарь студента\n",
        "student = {\n",
        "    \"name\": \"Мария\",\n",
        "    \"age\": 19,\n",
        "    \"course\": \"Литра\",\n",
        "    \"grades\": [4, 5, 5, 4, 5, 5]\n",
        "}\n",
        "\n",
        "# Выводим имя и курс\n",
        "print(f\"Студент: {student['name']}, курс: {student['course']}\")\n",
        "\n",
        "# Считаем средний балл\n",
        "average = sum(student['grades']) / len(student['grades'])\n",
        "print(\"Средний балл:\", average)\n",
        "\n",
        "# Добавляем ещё одну оценку\n",
        "student['grades'].append(5)\n"
      ],
      "metadata": {
        "colab": {
          "base_uri": "https://localhost:8080/"
        },
        "id": "qICBdjX1yxqX",
        "outputId": "293defee-b28b-432e-b1ea-a598bc059b12"
      },
      "execution_count": 8,
      "outputs": [
        {
          "output_type": "stream",
          "name": "stdout",
          "text": [
            "Студент: Мария, курс: Литра\n",
            "Средний балл: 4.666666666666667\n"
          ]
        }
      ]
    },
    {
      "cell_type": "code",
      "source": [
        "#7\n",
        "import math\n",
        "\n",
        "def calculate_circle_area(r):\n",
        "    return math.pi * r**2  # Возвращаем площадь круга\n",
        "\n",
        "def is_positive(num):\n",
        "    return num > 0  # True, если число положительное, иначе False\n",
        "\n",
        "# Пример использования\n",
        "radius = 5\n",
        "print(\"Площадь круга:\", calculate_circle_area(radius))\n",
        "print(\"Число положительное?\", is_positive(-3))\n"
      ],
      "metadata": {
        "colab": {
          "base_uri": "https://localhost:8080/"
        },
        "id": "HuQeVNSuzEks",
        "outputId": "66f4b54e-5767-4f12-ce3e-89cb24f3dded"
      },
      "execution_count": 10,
      "outputs": [
        {
          "output_type": "stream",
          "name": "stdout",
          "text": [
            "Площадь круга: 78.53981633974483\n",
            "Число положительное? False\n"
          ]
        }
      ]
    },
    {
      "cell_type": "code",
      "source": [
        "#8\n",
        "def bue(text):\n",
        "    result = \"\"\n",
        "    for char in text:\n",
        "        if 'a' <= char <= 'z':\n",
        "            new_char = chr((ord(char) - ord('a') + 3) % 26 + ord('a'))\n",
        "            result += new_char\n",
        "        elif 'A' <= char <= 'Z':\n",
        "            new_char = chr((ord(char) - ord('A') + 3) % 26 + ord('A'))\n",
        "            result += new_char\n",
        "        else:\n",
        "            result += char\n",
        "    return result\n",
        "\n",
        "prpr = \"Hello, World!\"\n",
        "bng = bue(prpr)\n",
        "print(bng)"
      ],
      "metadata": {
        "colab": {
          "base_uri": "https://localhost:8080/"
        },
        "id": "c_8y8ztkzIjN",
        "outputId": "100a2d00-da8a-405f-bdce-47998eca1075"
      },
      "execution_count": 11,
      "outputs": [
        {
          "output_type": "stream",
          "name": "stdout",
          "text": [
            "Khoor, Zruog!\n"
          ]
        }
      ]
    },
    {
      "cell_type": "code",
      "source": [
        "#9\n",
        "import random\n",
        "\n",
        "l1 = [random.randint(-10, 10) for _ in range(15)]\n",
        "l2 = list(filter(lambda x: x > 0, l1))\n",
        "l3 = list(map(lambda x: x ** 2, l1))\n",
        "\n",
        "print(\"список l1:\", l1)\n",
        "print(\"положительные числа l2:\", l2)\n",
        "print(\"квадраты чисел l3:\", l3)\n"
      ],
      "metadata": {
        "colab": {
          "base_uri": "https://localhost:8080/"
        },
        "id": "oBzSTBiczdcq",
        "outputId": "a8798179-f2c4-4323-d195-138a83abb598"
      },
      "execution_count": 12,
      "outputs": [
        {
          "output_type": "stream",
          "name": "stdout",
          "text": [
            "Список l1: [-4, 7, 7, 1, 4, -2, -10, 7, -4, 1, -2, 7, -6, 2, -2]\n",
            "Положительные числа l2: [7, 7, 1, 4, 7, 1, 7, 2]\n",
            "Квадраты чисел l3: [16, 49, 49, 1, 16, 4, 100, 49, 16, 1, 4, 49, 36, 4, 4]\n"
          ]
        }
      ]
    },
    {
      "cell_type": "code",
      "source": [
        "#10\n",
        "while True:\n",
        "    user_input = input(\"Введите число или 'стоп': \")\n",
        "\n",
        "    if user_input.lower() == \"стоп\":\n",
        "        print(\"Цикл завершён.\")\n",
        "        break\n",
        "\n",
        "    try:\n",
        "        number = float(user_input)\n",
        "        print(f\"Вы ввели число: {number}\")\n",
        "    except ValueError:\n",
        "        print(\"Ошибка: введено не число.\")\n"
      ],
      "metadata": {
        "colab": {
          "base_uri": "https://localhost:8080/"
        },
        "id": "N7Y_0k8lzqpF",
        "outputId": "418693df-74d1-4cee-bab3-d94e7cf64ac0"
      },
      "execution_count": 13,
      "outputs": [
        {
          "output_type": "stream",
          "name": "stdout",
          "text": [
            "Введите число или 'стоп': 212\n",
            "Вы ввели число: 212.0\n",
            "Введите число или 'стоп': стоп\n",
            "Цикл завершён.\n"
          ]
        }
      ]
    }
  ]
}